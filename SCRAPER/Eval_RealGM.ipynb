{
 "cells": [
  {
   "cell_type": "markdown",
   "metadata": {},
   "source": [
    "# Evaluación inicial.\n",
    "\n",
    "## basketball.realgm\n",
    "\n",
    "En el presente notebook llevaremos a cabo la evaluación inicial de la página web donde realizaremos la mayor parte de nuestro web scraping. La web con la que trabajaremos se llama basketball.realgm y su enlace es el siguiente:\n",
    "* https://basketball.realgm.com/nba/stats"
   ]
  },
  {
   "cell_type": "markdown",
   "metadata": {},
   "source": [
    "### 1. Archivo _robots.txt_"
   ]
  },
  {
   "cell_type": "code",
   "execution_count": 1,
   "metadata": {},
   "outputs": [
    {
     "data": {
      "text/plain": [
       "<html><body><p>User-agent: *\n",
       "Disallow: /national/stats/*\n",
       "Disallow: /national/countries/*/*/stats/*\n",
       "Disallow: /nba/stats/*\n",
       "Disallow: /nba/team-stats/*\n",
       "Disallow: /nba/team_stats/*\n",
       "Disallow: /nba/individual-games/*\n",
       "Disallow: /nba/individual_games/*\n",
       "Disallow: /nba/individual-seasons/*\n",
       "Disallow: /nba/individual_seasons/*\n",
       "Disallow: /nba/teams/*/*/Stats/*\n",
       "Disallow: /nba/teams/*/*/individual-games/*\n",
       "Disallow: /nba/teams/*/*/individual_games/*\n",
       "Disallow: /nba/teams/*/*/individual-seasons/*\n",
       "Disallow: /nba/teams/*/*/individual_seasons/*\n",
       "Disallow: /ncaa/stats/*\n",
       "Disallow: /ncaa/team-stats/*\n",
       "Disallow: /ncaa/team_stats/*\n",
       "Disallow: /ncaa/individual-games/*\n",
       "Disallow: /ncaa/individual_games/*\n",
       "Disallow: /ncaa/individual-seasons/*\n",
       "Disallow: /ncaa/individual_seasons/*\n",
       "Disallow: /ncaa/conferences/*/*/stats/*\n",
       "Disallow: /ncaa/conferences/*/*/individual-games/*\n",
       "Disallow: /ncaa/conferences/*/*/individual_games/*\n",
       "Disallow: /ncaa/conferences/*/*/individual-seasons/*\n",
       "Disallow: /ncaa/conferences/*/*/individual_seasons/*\n",
       "Disallow: /ncaa/conferences/*/*/*/*/stats/*\n",
       "Disallow: /ncaa/conferences/*/*/*/*/individual-games/*\n",
       "Disallow: /ncaa/conferences/*/*/*/*/individual_games/*\n",
       "Disallow: /ncaa/conferences/*/*/*/*/individual-seasons/*\n",
       "Disallow: /ncaa/conferences/*/*/*/*/individual_seasons/*\n",
       "Disallow: /dleague/stats/*\n",
       "Disallow: /dleague/team-stats/*\n",
       "Disallow: /dleague/team_stats/*\n",
       "Disallow: /dleague/individual-games/*\n",
       "Disallow: /dleague/individual_games/*\n",
       "Disallow: /dleague/individual-seasons/*\n",
       "Disallow: /dleague/individual_seasons/*\n",
       "Disallow: /dleague/teams/*/*/Stats/*\n",
       "Disallow: /dleague/teams/*/*/individual-games/*\n",
       "Disallow: /dleague/teams/*/*/individual_games/*\n",
       "Disallow: /dleague/teams/*/*/individual-seasons/*\n",
       "Disallow: /dleague/teams/*/*/individual_seasons/*\n",
       "Disallow: /international/stats/*\n",
       "Disallow: /international/team-stats/*\n",
       "Disallow: /international/team_stats/*\n",
       "Disallow: /international/individual-games/*\n",
       "Disallow: /international/individual_games/*\n",
       "Disallow: /international/individual-seasons/*\n",
       "Disallow: /international/individual_seasons/*\n",
       "Disallow: /international/league/*/*/stats/*\n",
       "Disallow: /international/league/*/*/team-stats/*\n",
       "Disallow: /international/league/*/*/team_stats/*\n",
       "Disallow: /international/league/*/*/individual-games/*\n",
       "Disallow: /international/league/*/*/individual_games/*\n",
       "Disallow: /international/league/*/*/individual-seasons/*\n",
       "Disallow: /international/league/*/*/individual_seasons/*\n",
       "Disallow: /international/league/*/*/team/*/*/stats/*\n",
       "Disallow: /international/league/*/*/team/*/*/individual-games/*\n",
       "Disallow: /international/league/*/*/team/*/*/individual_games/*\n",
       "Disallow: /international/league/*/*/team/*/*/individual-seasons/*\n",
       "Disallow: /international/league/*/*/team/*/*/individual_seasons/*</p></body></html>"
      ]
     },
     "execution_count": 1,
     "metadata": {},
     "output_type": "execute_result"
    }
   ],
   "source": [
    "import requests\n",
    "from bs4 import BeautifulSoup\n",
    "url = 'https://basketball.realgm.com/robots.txt'\n",
    "\n",
    "response = requests.get(url) \n",
    "html_soup = BeautifulSoup(response.text, \"lxml\")\n",
    "html_soup"
   ]
  },
  {
   "cell_type": "markdown",
   "metadata": {},
   "source": [
    "### 2. Mapa del sitio web\n",
    "\n",
    "Con el comando \"ctrl + u\" podemos acceder al mapa del sitio web."
   ]
  },
  {
   "cell_type": "markdown",
   "metadata": {},
   "source": [
    "### 3. Tamaño\n",
    "\n",
    "La búsqueda en Google de 'https://basketball.realgm.com' nos devuelve un total de 972.000 resultados. En nuestro web scraping usaremos directamente el enlace que nos redirecciona a las estadísticas de cada año y cada posición ('https://basketball.realgm.com/nba/stats') permitiéndonos realizar cada búsqueda de forma más óptima. "
   ]
  },
  {
   "cell_type": "markdown",
   "metadata": {},
   "source": [
    "### 4. Tecnología\n",
    "\n",
    "Indicamos la tecnología empleada en el desarrollo de la página web."
   ]
  },
  {
   "cell_type": "code",
   "execution_count": 2,
   "metadata": {},
   "outputs": [
    {
     "data": {
      "text/plain": [
       "{'advertising-networks': ['DoubleClick for Publishers (DFP)'],\n",
       " 'javascript-frameworks': ['Modernizr', 'jQuery', 'jQuery UI'],\n",
       " 'web-servers': ['Nginx']}"
      ]
     },
     "execution_count": 2,
     "metadata": {},
     "output_type": "execute_result"
    }
   ],
   "source": [
    "import builtwith\n",
    "builtwith.builtwith('https://basketball.realgm.com')"
   ]
  },
  {
   "cell_type": "markdown",
   "metadata": {},
   "source": [
    "### 5. Propietario\n",
    "\n",
    "Indicamos el propietario de la página web"
   ]
  },
  {
   "cell_type": "code",
   "execution_count": 3,
   "metadata": {},
   "outputs": [
    {
     "data": {
      "text/plain": [
       "{'address': 'REDACTED FOR PRIVACY',\n",
       " 'city': 'REDACTED FOR PRIVACY',\n",
       " 'country': 'US',\n",
       " 'creation_date': datetime.datetime(2000, 7, 21, 23, 24, 13),\n",
       " 'dnssec': 'unsigned',\n",
       " 'domain_name': 'REALGM.COM',\n",
       " 'emails': ['domainabuse@tucows.com', 'registrar@epicworks.com'],\n",
       " 'expiration_date': datetime.datetime(2025, 7, 21, 23, 24, 13),\n",
       " 'name': 'REDACTED FOR PRIVACY',\n",
       " 'name_servers': ['NS1.EPICWORKS.COM',\n",
       "  'NS2.EPICWORKS.COM',\n",
       "  'ns1.epicworks.com',\n",
       "  'ns2.epicworks.com'],\n",
       " 'org': 'REDACTED FOR PRIVACY',\n",
       " 'referral_url': None,\n",
       " 'registrar': 'TUCOWS, INC.',\n",
       " 'state': 'IL',\n",
       " 'status': ['clientTransferProhibited https://icann.org/epp#clientTransferProhibited',\n",
       "  'clientUpdateProhibited https://icann.org/epp#clientUpdateProhibited'],\n",
       " 'updated_date': datetime.datetime(2018, 5, 2, 20, 49, 48),\n",
       " 'whois_server': 'whois.tucows.com',\n",
       " 'zipcode': 'REDACTED FOR PRIVACY'}"
      ]
     },
     "execution_count": 3,
     "metadata": {},
     "output_type": "execute_result"
    }
   ],
   "source": [
    "import whois\n",
    "whois.whois('https://basketball.realgm.com')"
   ]
  },
  {
   "cell_type": "code",
   "execution_count": null,
   "metadata": {},
   "outputs": [],
   "source": []
  }
 ],
 "metadata": {
  "kernelspec": {
   "display_name": "Python 3",
   "language": "python",
   "name": "python3"
  },
  "language_info": {
   "codemirror_mode": {
    "name": "ipython",
    "version": 3
   },
   "file_extension": ".py",
   "mimetype": "text/x-python",
   "name": "python",
   "nbconvert_exporter": "python",
   "pygments_lexer": "ipython3",
   "version": "3.6.4"
  }
 },
 "nbformat": 4,
 "nbformat_minor": 2
}
